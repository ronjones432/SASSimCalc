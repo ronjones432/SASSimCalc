{
 "cells": [
  {
   "cell_type": "markdown",
   "metadata": {},
   "source": [
    "<h1>SASCalc</h1>\n",
    "\n",
    "<b>Purpose:</b>\n",
    "This notebook replicates the calculations performed by the NCNR Igor macro SASCalc. The user inputs parameters of the small angle neutron scattering instrument, and the notebook calculates the scattering as a function of q vector in 2-D and 1-D. Unlike the Igor macro version, the notebook always calculates the 2-D version, and derives the 1-D data from an averaging method. The Igor version defaulted to a straight 1-D calculation, though the resolution was always done in 2-D.\n",
    "\n",
    "<b>Input Classes:</b><ul>\n",
    "<li>Source: This is a neutron flux value at the end of the non-programmable neutron guides.</li>\n",
    "<li>Wavelength: This class describes the wavelength properties of the beam after a velocity selector or monochromator. Included in the description are the wavelength, the spread in wavelength, and the type of device. For a velocity selector, a velocity is calculated and stored in the class object.</li>\n",
    "<li>Attenuator: This class describes the effects of an attenuator on the beam intensity. It does not affect beam divergence, wavelength, or wavelength spread.</li>\n",
    "<li>Source Aperture: This class describes the source aperture. Included in the description are its coordinates, its shape (circular or rectangular), and dimensions (radius or width-height). A flux after the aperture is a calculated number.</li>\n",
    "<li>Guide: This class describes the configuration of programmable guides. Included in the description are the number of guides.</li>\n",
    "<li>Sample Aperture: This class describes the source aperture. Included in the description are its coordinates, its shape (circular or rectangular), and dimensions (radius or width-height). A flux after the aperture is a calculated number.</li>\n",
    "<li>Sample: This class describes the sample, which is represented in fourier space by a SASview scattering model. The class includes the sample coordinates, thickness, cell details, and parameters required to calculate the scattering model.\n",
    "<li>Detector: This class describes the 2-dimensional neutron detector. Included in the description are its coordinates, its dimensions (number of pixels, pixel size), and performance (dead time, pixel blur). The counts on the detector are calculated in 2D and 1D.</li>"
   ]
  },
  {
   "cell_type": "code",
   "execution_count": 1,
   "metadata": {},
   "outputs": [],
   "source": [
    "%load_ext autoreload\n",
    "%autoreload 2"
   ]
  },
  {
   "cell_type": "code",
   "execution_count": 24,
   "metadata": {},
   "outputs": [],
   "source": [
    "import sys\n",
    "sys.path.insert(0,'./')\n",
    "from components import *\n",
    "from instrument import *\n"
   ]
  },
  {
   "cell_type": "markdown",
   "metadata": {},
   "source": [
    "<h2>Load instrument components</h2>\n",
    "<b>Purpose:</b> Load all of the component classes with initial parameters<br><br>"
   ]
  },
  {
   "cell_type": "code",
   "execution_count": 22,
   "metadata": {},
   "outputs": [],
   "source": [
    "src = Source(loc=-800, flux=100000)\n",
    "velsel = VelocitySelector(loc=-600, wavelen=5, spread=0.14)\n",
    "atten = Attenuator(loc=-510, number=0, factor=0)\n",
    "srcap = Aperture(loc=-500, shape='circle', dims=[2.54, 2.54])\n",
    "samap = Aperture(loc=0, shape='circle', dims=[0.635, 0.635])\n",
    "guides = Guide(loc=-500, number=0, dims=[5,5], parms=[2,2])\n",
    "sam = Sample(loc=5, label='Cylinders in d2O', dims=[2.54, 2.54, 0.254], model='cylinder')\n",
    "bs = BeamStop(loc=495, coords=[0.2, 5.3], bsnum=2, bsdims=[5.08, 5.08], A=20.1, B=2.0477)\n",
    "det = Detector(loc=500, dpix=[0.508, 0.508], npix=[128,128], beam_cntr=[64.1, 65.2])"
   ]
  },
  {
   "cell_type": "code",
   "execution_count": 25,
   "metadata": {},
   "outputs": [],
   "source": [
    "sans = Instrument(src, velsel, atten, guides, srcap, samap, sam, bs, det)"
   ]
  },
  {
   "cell_type": "code",
   "execution_count": null,
   "metadata": {},
   "outputs": [],
   "source": []
  },
  {
   "cell_type": "code",
   "execution_count": null,
   "metadata": {},
   "outputs": [],
   "source": []
  },
  {
   "cell_type": "code",
   "execution_count": null,
   "metadata": {},
   "outputs": [],
   "source": []
  },
  {
   "cell_type": "code",
   "execution_count": null,
   "metadata": {},
   "outputs": [],
   "source": [
    "## Use SASModels to calculate a smeared function on the detector\n",
    "## 1) fill in a dictionary of parameters for the model\n",
    "## 2) Create a sasmodels:Data2D object either with empty_data2D or with data2D class directly\n",
    "## 3) Create a kernel object based on the model name\n",
    "## 4) Create an instance of the sasmodels:DirectModel class based on the data2D and kernel objects\n",
    "## 5) Caculate the 2D array of intensity through the DirectModel instance\n",
    "\n",
    "pars = {'radius': 200, 'radius_pd': 0.1, 'scale': 2}\n",
    "res = 0.05\n",
    "Qx, Qy = np.meshgrid(det.ax_qx, det.ax_qy)\n",
    "Qx, Qy = Qx.flatten(), Qy.flatten()\n",
    "Q = np.sqrt(Qx**2 + Qy**2)\n",
    "dqx = res * Q\n",
    "dqy = res * Q\n",
    "Iq = 100 * np.ones_like(Qx)\n",
    "dIq = np.sqrt(Iq)\n",
    "data = Data2D(x=Qx, y=Qy, z=Iq, dx=dqx, dy=dqy, dz=dIq)\n",
    "kernel = load_model(sam.model)\n",
    "f = DirectModel(data, kernel)\n",
    "Iq = np.reshape(f(**pars), (128, 128))"
   ]
  },
  {
   "cell_type": "code",
   "execution_count": null,
   "metadata": {},
   "outputs": [],
   "source": [
    "plt.imshow(np.log10(sans10m.Iq))\n",
    "plt.title('Detector Image')\n",
    "plt.colorbar()\n",
    "plt.ylabel('Y Pixels')\n",
    "plt.xlabel('X Pixels')\n"
   ]
  },
  {
   "cell_type": "code",
   "execution_count": null,
   "metadata": {},
   "outputs": [],
   "source": []
  }
 ],
 "metadata": {
  "kernelspec": {
   "display_name": "Python 3",
   "language": "python",
   "name": "python3"
  },
  "language_info": {
   "codemirror_mode": {
    "name": "ipython",
    "version": 3
   },
   "file_extension": ".py",
   "mimetype": "text/x-python",
   "name": "python",
   "nbconvert_exporter": "python",
   "pygments_lexer": "ipython3",
   "version": "3.7.7"
  }
 },
 "nbformat": 4,
 "nbformat_minor": 4
}
